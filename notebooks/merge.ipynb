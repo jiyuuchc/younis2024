{
 "cells": [
  {
   "cell_type": "code",
   "execution_count": 23,
   "id": "41c6c9ca-2fa8-4451-a60f-7dbb817f333e",
   "metadata": {},
   "outputs": [],
   "source": [
    "from pathlib import Path \n",
    "\n",
    "import numpy as np\n",
    "import pandas as pd\n",
    "import ripleyk\n",
    "import matplotlib.pyplot as plt\n",
    "\n",
    "#datafile = Path(\"../data/merged/20221014 Folder 1/CoordTable_SAFE360_2D.csv\")"
   ]
  },
  {
   "cell_type": "code",
   "execution_count": 25,
   "id": "f960c538-86cc-4d0f-a4fb-64182ebebb90",
   "metadata": {},
   "outputs": [],
   "source": [
    "header = '\\\"id\\\",\\\"frame\\\",\\\"x [nm]\\\",\\\"y [nm]\\\",\\\"sigma [nm]\\\",\\\"intensity [photon]\\\",\\\"amplitude [photon]\\\",\\\"offset [photon]\\\",\\\"bkgstd [photon]\\\",\\\"uncertainty_xy [nm]\\\"\\n'\n",
    "\n",
    "for datafile in Path(\"../data/merged/\").glob(\"*/*.csv\"):\n",
    "    data = pd.read_csv(datafile, index_col='id')\n",
    "    data.frame = data.frame.astype(int) + 1\n",
    "    data.index = np.arange(len(data)) + 1\n",
    "    \n",
    "    s = header + data.to_csv(None, header=False)\n",
    "    \n",
    "    with open(datafile, \"w\") as f:\n",
    "        f.write(s)"
   ]
  },
  {
   "cell_type": "code",
   "execution_count": null,
   "id": "f91d3694-d374-4492-a2c0-3f0fcd6c410a",
   "metadata": {},
   "outputs": [],
   "source": []
  }
 ],
 "metadata": {
  "kernelspec": {
   "display_name": "Python 3 (ipykernel)",
   "language": "python",
   "name": "python3"
  },
  "language_info": {
   "codemirror_mode": {
    "name": "ipython",
    "version": 3
   },
   "file_extension": ".py",
   "mimetype": "text/x-python",
   "name": "python",
   "nbconvert_exporter": "python",
   "pygments_lexer": "ipython3",
   "version": "3.10.12"
  }
 },
 "nbformat": 4,
 "nbformat_minor": 5
}
